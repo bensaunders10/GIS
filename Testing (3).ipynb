{
 "cells": [
  {
   "cell_type": "code",
   "execution_count": 2,
   "metadata": {},
   "outputs": [
    {
     "data": {
      "application/vnd.jupyter.widget-view+json": {
       "model_id": "bf5030c4d5c341f69baf0860f036518d",
       "version_major": 2,
       "version_minor": 0
      },
      "text/plain": [
       "Map(center=[52.204793, 360.121558], controls=(ZoomControl(options=['position', 'zoom_in_text', 'zoom_in_title'…"
      ]
     },
     "metadata": {},
     "output_type": "display_data"
    }
   ],
   "source": [
    "from ipyleaflet import Map, basemaps, basemap_to_tiles\n",
    "\n",
    "m = Map(\n",
    "    layers=(basemap_to_tiles(basemaps.NASAGIBS.ModisTerraTrueColorCR, \"2017-04-08\"), ),\n",
    "    center=(52.204793, 360.121558),\n",
    "    zoom=4\n",
    ")\n",
    "\n",
    "m"
   ]
  },
  {
   "cell_type": "code",
   "execution_count": null,
   "metadata": {},
   "outputs": [],
   "source": []
  }
 ],
 "metadata": {
  "kernelspec": {
   "display_name": "Python 3",
   "language": "python",
   "name": "python3"
  },
  "language_info": {
   "codemirror_mode": {
    "name": "ipython",
    "version": 3
   },
   "file_extension": ".py",
   "mimetype": "text/x-python",
   "name": "python",
   "nbconvert_exporter": "python",
   "pygments_lexer": "ipython3",
   "version": "3.7.4"
  },
  "widgets": {
   "application/vnd.jupyter.widget-state+json": {
    "state": {
     "01d5db5b3d264dbe883c84bbecc9e0ee": {
      "model_module": "jupyter-leaflet",
      "model_module_version": "^0.12.2",
      "model_name": "LeafletZoomControlModel",
      "state": {
       "_model_module_version": "^0.12.2",
       "_view_module_version": "^0.12.2",
       "options": [
        "position",
        "zoom_in_text",
        "zoom_in_title",
        "zoom_out_text",
        "zoom_out_title"
       ]
      }
     },
     "0b3c2e8f5d964b049ac497faf648f732": {
      "model_module": "jupyter-leaflet",
      "model_module_version": "^0.12.2",
      "model_name": "LeafletMapStyleModel",
      "state": {
       "_model_module_version": "^0.12.2",
       "cursor": "move"
      }
     },
     "0b82a70f7e3b46eba00b82deb22a5642": {
      "model_module": "@jupyter-widgets/base",
      "model_module_version": "1.2.0",
      "model_name": "LayoutModel",
      "state": {}
     },
     "12c287eb63e845c8b662534550663ec3": {
      "model_module": "jupyter-leaflet",
      "model_module_version": "^0.12.2",
      "model_name": "LeafletTileLayerModel",
      "state": {
       "_model_module_version": "^0.12.2",
       "_view_module_version": "^0.12.2",
       "attribution": "Imagery provided by services from the Global Imagery Browse Services (GIBS), operated by the NASA/GSFC/Earth Science Data and Information System (<a href=\"https://earthdata.nasa.gov\">ESDIS</a>) with funding provided by NASA/HQ.",
       "max_native_zoom": 18,
       "max_zoom": 9,
       "min_native_zoom": 0,
       "min_zoom": 1,
       "name": "NASAGIBS.ModisTerraTrueColorCR",
       "no_wrap": false,
       "options": [
        "attribution",
        "detect_retina",
        "max_native_zoom",
        "max_zoom",
        "min_native_zoom",
        "min_zoom",
        "no_wrap",
        "tile_size",
        "tms"
       ],
       "url": "https://gibs.earthdata.nasa.gov/wmts/epsg3857/best/MODIS_Terra_CorrectedReflectance_TrueColor/default/2017-04-08/GoogleMapsCompatible_Level9/{z}/{y}/{x}.jpg"
      }
     },
     "27a76fb46dee46258ac569cb393f7aab": {
      "model_module": "jupyter-leaflet",
      "model_module_version": "^0.12.2",
      "model_name": "LeafletMapStyleModel",
      "state": {
       "_model_module_version": "^0.12.2"
      }
     },
     "3318a12a9b46430597e2a968f847a24b": {
      "model_module": "jupyter-leaflet",
      "model_module_version": "^0.12.2",
      "model_name": "LeafletAttributionControlModel",
      "state": {
       "_model_module_version": "^0.12.2",
       "_view_module_version": "^0.12.2",
       "options": [
        "position",
        "prefix"
       ],
       "position": "bottomright",
       "prefix": "Leaflet"
      }
     },
     "4c76de8d211f40fcba1ea08dc2992b62": {
      "model_module": "jupyter-leaflet",
      "model_module_version": "^0.12.2",
      "model_name": "LeafletMapStyleModel",
      "state": {
       "_model_module_version": "^0.12.2"
      }
     },
     "50ce30e2359d4982ba706f4974ba8d24": {
      "model_module": "jupyter-leaflet",
      "model_module_version": "^0.12.2",
      "model_name": "LeafletAttributionControlModel",
      "state": {
       "_model_module_version": "^0.12.2",
       "_view_module_version": "^0.12.2",
       "options": [
        "position",
        "prefix"
       ],
       "position": "bottomright",
       "prefix": "Leaflet"
      }
     },
     "5316860a8a47498bb7d24f93736af0cb": {
      "model_module": "jupyter-leaflet",
      "model_module_version": "^0.12.2",
      "model_name": "LeafletMapStyleModel",
      "state": {
       "_model_module_version": "^0.12.2"
      }
     },
     "76ff9663225d4dc2a1c130f715f52c59": {
      "model_module": "jupyter-leaflet",
      "model_module_version": "^0.12.2",
      "model_name": "LeafletMapStyleModel",
      "state": {
       "_model_module_version": "^0.12.2"
      }
     },
     "95d722896af34b7da52f314c0c7531f6": {
      "model_module": "jupyter-leaflet",
      "model_module_version": "^0.12.2",
      "model_name": "LeafletMapStyleModel",
      "state": {
       "_model_module_version": "^0.12.2",
       "cursor": "move"
      }
     },
     "aefab4ab60254f27a021e8d3772d0041": {
      "model_module": "jupyter-leaflet",
      "model_module_version": "^0.12.2",
      "model_name": "LeafletTileLayerModel",
      "state": {
       "_model_module_version": "^0.12.2",
       "_view_module_version": "^0.12.2",
       "attribution": "Imagery provided by services from the Global Imagery Browse Services (GIBS), operated by the NASA/GSFC/Earth Science Data and Information System (<a href=\"https://earthdata.nasa.gov\">ESDIS</a>) with funding provided by NASA/HQ.",
       "max_native_zoom": 18,
       "max_zoom": 9,
       "min_native_zoom": 0,
       "min_zoom": 1,
       "name": "NASAGIBS.ModisTerraTrueColorCR",
       "no_wrap": false,
       "options": [
        "attribution",
        "detect_retina",
        "max_native_zoom",
        "max_zoom",
        "min_native_zoom",
        "min_zoom",
        "no_wrap",
        "tile_size",
        "tms"
       ],
       "url": "https://gibs.earthdata.nasa.gov/wmts/epsg3857/best/MODIS_Terra_CorrectedReflectance_TrueColor/default/2017-04-08/GoogleMapsCompatible_Level9/{z}/{y}/{x}.jpg"
      }
     },
     "baaf1f1e4e3d4cf7a30b3b20e8a6bae3": {
      "model_module": "@jupyter-widgets/base",
      "model_module_version": "1.2.0",
      "model_name": "LayoutModel",
      "state": {}
     },
     "bf5030c4d5c341f69baf0860f036518d": {
      "model_module": "jupyter-leaflet",
      "model_module_version": "^0.12.2",
      "model_name": "LeafletMapModel",
      "state": {
       "_model_module_version": "^0.12.2",
       "_view_module_version": "^0.12.2",
       "center": [
        52.204793,
        360.121558
       ],
       "controls": [
        "IPY_MODEL_d1a1fce09ea745f49de6e674e9c077f0",
        "IPY_MODEL_50ce30e2359d4982ba706f4974ba8d24"
       ],
       "default_style": "IPY_MODEL_27a76fb46dee46258ac569cb393f7aab",
       "dragging_style": "IPY_MODEL_95d722896af34b7da52f314c0c7531f6",
       "east": 403.15429687500006,
       "fullscreen": false,
       "interpolation": "bilinear",
       "layers": [
        "IPY_MODEL_aefab4ab60254f27a021e8d3772d0041"
       ],
       "layout": "IPY_MODEL_0b82a70f7e3b46eba00b82deb22a5642",
       "modisdate": "yesterday",
       "north": 61.73152565113397,
       "options": [
        "bounce_at_zoom_limits",
        "box_zoom",
        "center",
        "close_popup_on_click",
        "double_click_zoom",
        "dragging",
        "fullscreen",
        "inertia",
        "inertia_deceleration",
        "inertia_max_speed",
        "interpolation",
        "keyboard",
        "keyboard_pan_offset",
        "keyboard_zoom_offset",
        "max_zoom",
        "min_zoom",
        "scroll_wheel_zoom",
        "tap",
        "tap_tolerance",
        "touch_zoom",
        "world_copy_jump",
        "zoom",
        "zoom_animation_threshold",
        "zoom_start"
       ],
       "south": 40.111688665595956,
       "style": "IPY_MODEL_5316860a8a47498bb7d24f93736af0cb",
       "west": 180,
       "zoom": 4
      }
     },
     "d1a1fce09ea745f49de6e674e9c077f0": {
      "model_module": "jupyter-leaflet",
      "model_module_version": "^0.12.2",
      "model_name": "LeafletZoomControlModel",
      "state": {
       "_model_module_version": "^0.12.2",
       "_view_module_version": "^0.12.2",
       "options": [
        "position",
        "zoom_in_text",
        "zoom_in_title",
        "zoom_out_text",
        "zoom_out_title"
       ]
      }
     },
     "ed1f9c75374b467080b8e3ebd0bd4cca": {
      "model_module": "jupyter-leaflet",
      "model_module_version": "^0.12.2",
      "model_name": "LeafletMapModel",
      "state": {
       "_model_module_version": "^0.12.2",
       "_view_module_version": "^0.12.2",
       "center": [
        51.828988363669126,
        358.17626953125006
       ],
       "controls": [
        "IPY_MODEL_01d5db5b3d264dbe883c84bbecc9e0ee",
        "IPY_MODEL_3318a12a9b46430597e2a968f847a24b"
       ],
       "default_style": "IPY_MODEL_4c76de8d211f40fcba1ea08dc2992b62",
       "dragging_style": "IPY_MODEL_0b3c2e8f5d964b049ac497faf648f732",
       "east": 363.5595703125,
       "fullscreen": false,
       "interpolation": "bilinear",
       "layers": [
        "IPY_MODEL_12c287eb63e845c8b662534550663ec3"
       ],
       "layout": "IPY_MODEL_baaf1f1e4e3d4cf7a30b3b20e8a6bae3",
       "modisdate": "yesterday",
       "north": 53.166533500950905,
       "options": [
        "bounce_at_zoom_limits",
        "box_zoom",
        "center",
        "close_popup_on_click",
        "double_click_zoom",
        "dragging",
        "fullscreen",
        "inertia",
        "inertia_deceleration",
        "inertia_max_speed",
        "interpolation",
        "keyboard",
        "keyboard_pan_offset",
        "keyboard_zoom_offset",
        "max_zoom",
        "min_zoom",
        "scroll_wheel_zoom",
        "tap",
        "tap_tolerance",
        "touch_zoom",
        "world_copy_jump",
        "zoom",
        "zoom_animation_threshold",
        "zoom_start"
       ],
       "south": 50.450509053586615,
       "style": "IPY_MODEL_4c76de8d211f40fcba1ea08dc2992b62",
       "west": 180,
       "zoom": 7
      }
     }
    },
    "version_major": 2,
    "version_minor": 0
   }
  }
 },
 "nbformat": 4,
 "nbformat_minor": 4
}
